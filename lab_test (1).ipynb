{
  "nbformat": 4,
  "nbformat_minor": 0,
  "metadata": {
    "colab": {
      "name": "lab test",
      "provenance": [],
      "collapsed_sections": []
    },
    "kernelspec": {
      "name": "python3",
      "display_name": "Python 3"
    },
    "language_info": {
      "name": "python"
    }
  },
  "cells": [
    {
      "cell_type": "code",
      "execution_count": null,
      "metadata": {
        "id": "bkISfGha-2HO"
      },
      "outputs": [],
      "source": [
        "#importing requires\n",
        "\n",
        "import cv2\n",
        "from google.colab.patches import cv2_imshow"
      ]
    },
    {
      "cell_type": "code",
      "source": [
        "#reading the image\n",
        "\n",
        "img = cv2.imread(\"/content/nn_img.jfif\");"
      ],
      "metadata": {
        "id": "xPixaaKvARPz"
      },
      "execution_count": null,
      "outputs": []
    },
    {
      "cell_type": "code",
      "source": [
        "#function to convert RGB to gray\n",
        "\n",
        "import numpy as np\n",
        "\n",
        "def rgb2gray(rgb):\n",
        "\n",
        "    r, g, b = rgb[:,:,0], rgb[:,:,1], rgb[:,:,2]\n",
        "    gray = 0.2989 * r + 0.5870 * g + 0.1140 * b\n",
        "\n",
        "    return gray"
      ],
      "metadata": {
        "id": "JkXoP4NwAiAN"
      },
      "execution_count": null,
      "outputs": []
    },
    {
      "cell_type": "code",
      "source": [
        "img = rgb2gray(img)"
      ],
      "metadata": {
        "id": "6g3hxt7QAxUU"
      },
      "execution_count": null,
      "outputs": []
    },
    {
      "cell_type": "code",
      "source": [
        "cv2_imshow(img)"
      ],
      "metadata": {
        "colab": {
          "base_uri": "https://localhost:8080/",
          "height": 147
        },
        "id": "xCODXa27Ejri",
        "outputId": "441d550a-7738-44e8-9757-0180afbd04d5"
      },
      "execution_count": null,
      "outputs": [
        {
          "output_type": "display_data",
          "data": {
            "text/plain": [
              "<PIL.Image.Image image mode=L size=173x130 at 0x7F6AD2778110>"
            ],
            "image/png": "[encoded data removed]"
          },
          "metadata": {}
        }
      ]
    },
    {
      "cell_type": "code",
      "source": [
        "import matplotlib.image as image\n",
        "print('The Shape of the image is:',img.shape)\n",
        "print('The image as array is:')\n",
        "print(img)"
      ],
      "metadata": {
        "colab": {
          "base_uri": "https://localhost:8080/"
        },
        "id": "KT2brzO-A3T3",
        "outputId": "4bfe96c1-c1c5-4e36-a1b2-82c9246116ae"
      },
      "execution_count": null,
      "outputs": [
        {
          "output_type": "stream",
          "name": "stdout",
          "text": [
            "The Shape of the image is: (130, 173)\n",
            "The image as array is:\n",
            "[[111.557  111.557  111.557  ... 107.0844 106.0845 106.0845]\n",
            " [111.557  111.557  111.557  ... 107.0844 106.0845 106.0845]\n",
            " [111.557  111.557  112.5569 ... 107.0844 107.0844 106.0845]\n",
            " ...\n",
            " [147.9815 148.3405 147.9815 ... 145.1236 145.1236 145.1236]\n",
            " [147.0956 146.9816 148.0955 ... 145.2484 144.6506 145.2484]\n",
            " [147.0956 147.0956 148.0955 ... 144.8894 144.8786 144.8894]]\n"
          ]
        }
      ]
    },
    {
      "cell_type": "code",
      "source": [
        "# defining a kernal\n",
        "\n",
        "ker = np.array([[-1,-1,-1], [-1,8,-1], [-1,-1,-1]])"
      ],
      "metadata": {
        "id": "BgoAwTooBXzb"
      },
      "execution_count": null,
      "outputs": []
    },
    {
      "cell_type": "code",
      "source": [
        "#applying the kernal on the image\n",
        "\n",
        "id = cv2.filter2D(src=img , ddepth=-1 , kernel = ker)\n",
        "print(\"Original image\")\n",
        "cv2_imshow(img)"
      ],
      "metadata": {
        "colab": {
          "base_uri": "https://localhost:8080/",
          "height": 164
        },
        "id": "nFDkVhfcCsbp",
        "outputId": "095f250c-502c-4d9b-8fe6-b60c156941f8"
      },
      "execution_count": null,
      "outputs": [
        {
          "output_type": "stream",
          "name": "stdout",
          "text": [
            "Original image\n"
          ]
        },
        {
          "output_type": "display_data",
          "data": {
            "text/plain": [
              "<PIL.Image.Image image mode=L size=173x130 at 0x7F6AD2775210>"
            ],
            "image/png": "[encoded data removed]"
          },
          "metadata": {}
        }
      ]
    },
    {
      "cell_type": "code",
      "source": [
        "print(\"After applying the filter\")\n",
        "cv2_imshow(id)"
      ],
      "metadata": {
        "colab": {
          "base_uri": "https://localhost:8080/",
          "height": 164
        },
        "id": "SmxcIgsFEQ8n",
        "outputId": "ccae21d5-24a4-4d80-91b1-550def72bc70"
      },
      "execution_count": null,
      "outputs": [
        {
          "output_type": "stream",
          "name": "stdout",
          "text": [
            "After applying the filter\n"
          ]
        },
        {
          "output_type": "display_data",
          "data": {
            "text/plain": [
              "<PIL.Image.Image image mode=L size=173x130 at 0x7F6AD2700DD0>"
            ],
            "image/png": "[encoded data removed]"
          },
          "metadata": {}
        }
      ]
    },
    {
      "cell_type": "code",
      "source": [
        "ker = np.array([[-1,-1,-1], [-1,10,-1], [-1,-1,-1]])\n",
        "id = cv2.filter2D(src=img , ddepth=-1 , kernel = ker)\n",
        "print(\"After applying the filter\")\n",
        "cv2_imshow(id)"
      ],
      "metadata": {
        "colab": {
          "base_uri": "https://localhost:8080/",
          "height": 164
        },
        "id": "xGxotT6rFiuq",
        "outputId": "f230a821-fdfb-4690-cd8d-ee337460f748"
      },
      "execution_count": null,
      "outputs": [
        {
          "output_type": "stream",
          "name": "stdout",
          "text": [
            "After applying the filter\n"
          ]
        },
        {
          "output_type": "display_data",
          "data": {
            "text/plain": [
              "<PIL.Image.Image image mode=L size=173x130 at 0x7F6AD272E250>"
            ],
            "image/png": "[encoded data removed]"
          },
          "metadata": {}
        }
      ]
    },
    {
      "cell_type": "code",
      "source": [
        "ker = np.array([[0,-1,0], [-1,4,-1], [0,-1,0]])\n",
        "id = cv2.filter2D(src=img , ddepth=-1 , kernel = ker)\n",
        "print(\"After applying the filter\")\n",
        "cv2_imshow(id)"
      ],
      "metadata": {
        "colab": {
          "base_uri": "https://localhost:8080/",
          "height": 164
        },
        "id": "R1Jivl0aGXfM",
        "outputId": "7a93952c-583b-445a-d17d-36d7726ef9af"
      },
      "execution_count": null,
      "outputs": [
        {
          "output_type": "stream",
          "name": "stdout",
          "text": [
            "After applying the filter\n"
          ]
        },
        {
          "output_type": "display_data",
          "data": {
            "text/plain": [
              "<PIL.Image.Image image mode=L size=173x130 at 0x7F6AD2723750>"
            ],
            "image/png": "[encoded data removed]"
          },
          "metadata": {}
        }
      ]
    },
    {
      "cell_type": "code",
      "source": [
        "ker = np.array([[1/9,1/9,1/9], [1/9,1/9,1/9], [1/9,1/9,1/9]])\n",
        "id = cv2.filter2D(src=img , ddepth=-1 , kernel = ker)\n",
        "print(\"After applying the filter\")\n",
        "cv2_imshow(id)"
      ],
      "metadata": {
        "id": "7ZSX9RTyIMKW",
        "colab": {
          "base_uri": "https://localhost:8080/",
          "height": 164
        },
        "outputId": "0c6202e6-f79f-469a-dd6c-7ee3458ea98d"
      },
      "execution_count": null,
      "outputs": [
        {
          "output_type": "stream",
          "name": "stdout",
          "text": [
            "After applying the filter\n"
          ]
        },
        {
          "output_type": "display_data",
          "data": {
            "text/plain": [
              "<PIL.Image.Image image mode=L size=173x130 at 0x7F6AD2704290>"
            ],
            "image/png": "[encoded data removed]"
          },
          "metadata": {}
        }
      ]
    },
    {
      "cell_type": "code",
      "source": [
        "ker = np.array([[-1,-1,-1], [-1,-1,-1], [-1,-1,-1]])\n",
        "id = cv2.filter2D(src=img , ddepth=-1 , kernel = ker)\n",
        "print(\"After applying the filter\")\n",
        "cv2_imshow(id)"
      ],
      "metadata": {
        "id": "xECz7lAtIQWI",
        "colab": {
          "base_uri": "https://localhost:8080/",
          "height": 164
        },
        "outputId": "1b1d02ce-4f84-433d-8804-a9976b28d71d"
      },
      "execution_count": null,
      "outputs": [
        {
          "output_type": "stream",
          "name": "stdout",
          "text": [
            "After applying the filter\n"
          ]
        },
        {
          "output_type": "display_data",
          "data": {
            "text/plain": [
              "<PIL.Image.Image image mode=L size=173x130 at 0x7F6AD272EF90>"
            ],
            "image/png": "[encoded data removed]"
          },
          "metadata": {}
        }
      ]
    },
    {
      "cell_type": "code",
      "source": [
        "ker = np.array([[101,69,0], [56,255,87], [123,96,157]])\n",
        "id = cv2.filter2D(src=img , ddepth=-1 , kernel = ker)\n",
        "print(\"After applying the filter\")\n",
        "cv2_imshow(id)"
      ],
      "metadata": {
        "id": "vQf8r0YWIQYP",
        "colab": {
          "base_uri": "https://localhost:8080/",
          "height": 164
        },
        "outputId": "4c473e4d-e81a-48cc-80b4-b071a335a57d"
      },
      "execution_count": null,
      "outputs": [
        {
          "output_type": "stream",
          "name": "stdout",
          "text": [
            "After applying the filter\n"
          ]
        },
        {
          "output_type": "display_data",
          "data": {
            "text/plain": [
              "<PIL.Image.Image image mode=L size=173x130 at 0x7F6AD278DF90>"
            ],
            "image/png": "[encoded data removed]"
          },
          "metadata": {}
        }
      ]
    },
    {
      "cell_type": "code",
      "source": [
        ""
      ],
      "metadata": {
        "id": "3qTe86kbVtO5"
      },
      "execution_count": null,
      "outputs": []
    }
  ]
}